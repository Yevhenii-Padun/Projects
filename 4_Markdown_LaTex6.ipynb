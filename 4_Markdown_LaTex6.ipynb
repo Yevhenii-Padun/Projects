{
 "cells": [
  {
   "cell_type": "markdown",
   "id": "807644cd",
   "metadata": {},
   "source": [
    "# Creating your notebook, similar to the figure"
   ]
  },
  {
   "cell_type": "markdown",
   "id": "a7148f4e",
   "metadata": {},
   "source": [
    "# 1. Markdown cells\n",
    "* Hi! Its University?\n",
    "* All HTML tabs are supported!\n",
    "* Моя сторінка на лінкедін [Лінкедін]()\n",
    "\n",
    "## This is Heading1\n",
    "\n",
    "### This is Heading2\n",
    "some gray colored text\n",
    "\n",
    "> This is where we can bring qouters and present them nicely\n",
    "\n",
    "And this is the paragraph about something very important Even math:\n",
    "\n",
    "$$y_{sub}=\\sqrt{(}x _{sub})$$\n",
    "\n",
    "Or python code example:\n",
    "```\n",
    "import math\n",
    "def foo():\n",
    "    return \"foo\"\n",
    "```"
   ]
  },
  {
   "cell_type": "markdown",
   "id": "616fca20",
   "metadata": {},
   "source": [
    "Here is the sample mean:\n",
    "\n",
    "$$\\overline{y} = \\frac{1}{n} {\\sum\\limits_{i=1}^{n}} y_i$$\n",
    "\n",
    "Here is the sample variance:\n",
    "\n",
    "$${\\sigma^2} = \\frac{\\sum\\limits_{i=1}^{n} (y_i-\\overline{y})^2}{n-1}$$\n",
    "\n",
    "Here is the sample standart deviation:\n",
    "\n",
    "$$\\sigma =\\sqrt{ \\frac{{\\sum\\limits_{i=1}^{n}} (y_i-\\overline{y})^2}{n-1}}$$"
   ]
  },
  {
   "cell_type": "code",
   "execution_count": null,
   "id": "81a10b13",
   "metadata": {},
   "outputs": [],
   "source": []
  }
 ],
 "metadata": {
  "kernelspec": {
   "display_name": "Python 3 (ipykernel)",
   "language": "python",
   "name": "python3"
  },
  "language_info": {
   "codemirror_mode": {
    "name": "ipython",
    "version": 3
   },
   "file_extension": ".py",
   "mimetype": "text/x-python",
   "name": "python",
   "nbconvert_exporter": "python",
   "pygments_lexer": "ipython3",
   "version": "3.9.12"
  }
 },
 "nbformat": 4,
 "nbformat_minor": 5
}
