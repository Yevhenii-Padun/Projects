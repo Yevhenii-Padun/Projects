{
 "cells": [
  {
   "cell_type": "markdown",
   "id": "d9337d26",
   "metadata": {},
   "source": [
    "### Introductory information for the Task:\n",
    "The application is a mobile utility for scanning documents. The monetization model is subscription, there is a trial period of 7 days with a further transition to payment of 4.99 USD per week. Follow the link below to download from the database on registrations of subscriptions and payments. Each line represents a separate event (either signing up for a trial subscription or paying after the end of the trial period). The task is structured in such a way as to test the understanding of the principles of the unit-economy of the enterprise."
   ]
  },
  {
   "cell_type": "markdown",
   "id": "3f61439e",
   "metadata": {},
   "source": [
    "#### Exercise:\n",
    "1. It is necessary to calculate the user's current LTV using a cohort analysis (cohorting event - registration of a trial period, a cohort represents the number of possible operations).\n",
    "2. Predict what LTV will be for six months.\n",
    "3. Build a graph that will display the actual LTV curve against the background of the predicted LTV curve.\n",
    "4. Calculate ROMI for 4 weeks and for half a year, if the cost of attracting a paying user is 6 USD (ROMI should be taken operational, not accounting, the goal is to find out how our investments will pay off).\n",
    "\n",
    "_Link to file: https://drive.google.com/file/d/1L8843A80r50_e-hU79XV_ssAfzgQVUDP/view?usp=sharing_"
   ]
  },
  {
   "cell_type": "code",
   "execution_count": 3,
   "id": "93624c6a",
   "metadata": {},
   "outputs": [],
   "source": [
    "# Import libraries\n",
    "import pandas as pd\n",
    "import numpy as np\n",
    "from datetime import datetime\n",
    "import matplotlib.pyplot as plt"
   ]
  },
  {
   "cell_type": "code",
   "execution_count": 4,
   "id": "046f7b03",
   "metadata": {},
   "outputs": [],
   "source": [
    "# Loading data\n",
    "df = pd.read_excel('test case data analyst.xlsx', parse_dates=['purchase_date'], dtype={'is_trial_period': bool})\n",
    "# The parse_dates argument in the read_excel method is used to specify the columns to be converted to the datetime data type"
   ]
  },
  {
   "cell_type": "code",
   "execution_count": 80,
   "id": "680f1206",
   "metadata": {},
   "outputs": [
    {
     "data": {
      "text/html": [
       "<div>\n",
       "<style scoped>\n",
       "    .dataframe tbody tr th:only-of-type {\n",
       "        vertical-align: middle;\n",
       "    }\n",
       "\n",
       "    .dataframe tbody tr th {\n",
       "        vertical-align: top;\n",
       "    }\n",
       "\n",
       "    .dataframe thead th {\n",
       "        text-align: right;\n",
       "    }\n",
       "</style>\n",
       "<table border=\"1\" class=\"dataframe\">\n",
       "  <thead>\n",
       "    <tr style=\"text-align: right;\">\n",
       "      <th></th>\n",
       "      <th>product_id</th>\n",
       "      <th>quantity</th>\n",
       "      <th>is_trial_period</th>\n",
       "      <th>purchase_date</th>\n",
       "      <th>user_id</th>\n",
       "    </tr>\n",
       "  </thead>\n",
       "  <tbody>\n",
       "    <tr>\n",
       "      <th>0</th>\n",
       "      <td>1week_4.99_USD_subscription_7days_trial</td>\n",
       "      <td>1</td>\n",
       "      <td>False</td>\n",
       "      <td>2020-02-19</td>\n",
       "      <td>9484222</td>\n",
       "    </tr>\n",
       "    <tr>\n",
       "      <th>1</th>\n",
       "      <td>1week_4.99_USD_subscription_7days_trial</td>\n",
       "      <td>1</td>\n",
       "      <td>False</td>\n",
       "      <td>2020-02-17</td>\n",
       "      <td>9422402</td>\n",
       "    </tr>\n",
       "    <tr>\n",
       "      <th>2</th>\n",
       "      <td>1week_4.99_USD_subscription_7days_trial</td>\n",
       "      <td>1</td>\n",
       "      <td>False</td>\n",
       "      <td>2020-02-18</td>\n",
       "      <td>4997991</td>\n",
       "    </tr>\n",
       "    <tr>\n",
       "      <th>3</th>\n",
       "      <td>1week_4.99_USD_subscription_7days_trial</td>\n",
       "      <td>1</td>\n",
       "      <td>False</td>\n",
       "      <td>2020-02-18</td>\n",
       "      <td>9455582</td>\n",
       "    </tr>\n",
       "    <tr>\n",
       "      <th>4</th>\n",
       "      <td>1week_4.99_USD_subscription_7days_trial</td>\n",
       "      <td>1</td>\n",
       "      <td>False</td>\n",
       "      <td>2020-02-16</td>\n",
       "      <td>8803657</td>\n",
       "    </tr>\n",
       "  </tbody>\n",
       "</table>\n",
       "</div>"
      ],
      "text/plain": [
       "                                product_id  quantity  is_trial_period  \\\n",
       "0  1week_4.99_USD_subscription_7days_trial         1            False   \n",
       "1  1week_4.99_USD_subscription_7days_trial         1            False   \n",
       "2  1week_4.99_USD_subscription_7days_trial         1            False   \n",
       "3  1week_4.99_USD_subscription_7days_trial         1            False   \n",
       "4  1week_4.99_USD_subscription_7days_trial         1            False   \n",
       "\n",
       "  purchase_date  user_id  \n",
       "0    2020-02-19  9484222  \n",
       "1    2020-02-17  9422402  \n",
       "2    2020-02-18  4997991  \n",
       "3    2020-02-18  9455582  \n",
       "4    2020-02-16  8803657  "
      ]
     },
     "execution_count": 80,
     "metadata": {},
     "output_type": "execute_result"
    }
   ],
   "source": [
    "df.head()"
   ]
  },
  {
   "cell_type": "code",
   "execution_count": 5,
   "id": "b882d29f",
   "metadata": {},
   "outputs": [
    {
     "name": "stdout",
     "output_type": "stream",
     "text": [
      "Number of rows: 114200\n",
      "Number of columns: 5\n",
      "product_id                 object\n",
      "quantity                    int64\n",
      "is_trial_period              bool\n",
      "purchase_date      datetime64[ns]\n",
      "user_id                     int64\n",
      "dtype: object\n"
     ]
    }
   ],
   "source": [
    "print('Number of rows: ' + str(df.shape[0]), 'Number of columns: ' + str(df.shape[1]),\n",
    "     df.dtypes, sep='\\n')\n",
    "# Display the number of rows and columns, as well as what type of data each column has"
   ]
  },
  {
   "cell_type": "markdown",
   "id": "39efb446",
   "metadata": {},
   "source": [
    "##### 1.1. Calculating a user's current LTV using cohort analysis¶"
   ]
  },
  {
   "cell_type": "code",
   "execution_count": 6,
   "id": "262b0a44",
   "metadata": {},
   "outputs": [
    {
     "data": {
      "text/plain": [
       "0         2020-02\n",
       "1         2020-02\n",
       "2         2020-02\n",
       "3         2020-02\n",
       "4         2020-01\n",
       "           ...   \n",
       "114195    2020-01\n",
       "114196    2020-01\n",
       "114197    2020-01\n",
       "114198    2020-01\n",
       "114199    2020-01\n",
       "Name: cohort_month, Length: 114200, dtype: period[M]"
      ]
     },
     "execution_count": 6,
     "metadata": {},
     "output_type": "execute_result"
    }
   ],
   "source": [
    "# Calculate the month of the first purchase of each user\n",
    "df['cohort_month'] = df.groupby('user_id')['purchase_date'].transform('min').dt.to_period('M')\n",
    "df['cohort_month']"
   ]
  },
  {
   "cell_type": "code",
   "execution_count": 7,
   "id": "7e092144",
   "metadata": {},
   "outputs": [
    {
     "data": {
      "text/plain": [
       "0         0\n",
       "1         0\n",
       "2         0\n",
       "3         0\n",
       "4         1\n",
       "         ..\n",
       "114195    0\n",
       "114196    0\n",
       "114197    0\n",
       "114198    0\n",
       "114199    0\n",
       "Name: cohort_age, Length: 114200, dtype: int64"
      ]
     },
     "execution_count": 7,
     "metadata": {},
     "output_type": "execute_result"
    }
   ],
   "source": [
    "# Calculate the age of the cohort in months\n",
    "df['cohort_age'] = (df['purchase_date'].dt.to_period('M') - df['cohort_month']).apply(lambda x: x.n)\n",
    "df['cohort_age']"
   ]
  },
  {
   "cell_type": "code",
   "execution_count": 8,
   "id": "a2cc1025",
   "metadata": {},
   "outputs": [
    {
     "data": {
      "text/plain": [
       "0         24413\n",
       "1         24413\n",
       "2         24413\n",
       "3         24413\n",
       "4         38496\n",
       "          ...  \n",
       "114195    38496\n",
       "114196    38496\n",
       "114197    38496\n",
       "114198    38496\n",
       "114199    38496\n",
       "Name: cohort_size, Length: 114200, dtype: int64"
      ]
     },
     "execution_count": 8,
     "metadata": {},
     "output_type": "execute_result"
    }
   ],
   "source": [
    "# Determine the size of the cohort\n",
    "df['cohort_size'] = df.groupby('cohort_month')['user_id'].transform('nunique')\n",
    "df['cohort_size']"
   ]
  },
  {
   "cell_type": "code",
   "execution_count": 9,
   "id": "51f8a6d9",
   "metadata": {},
   "outputs": [
    {
     "data": {
      "text/plain": [
       "0         6.338422\n",
       "1         6.338422\n",
       "2         6.338422\n",
       "3         6.338422\n",
       "4         3.044994\n",
       "            ...   \n",
       "114195    7.738415\n",
       "114196    7.738415\n",
       "114197    7.738415\n",
       "114198    7.738415\n",
       "114199    7.738415\n",
       "Name: ltv, Length: 114200, dtype: float64"
      ]
     },
     "execution_count": 9,
     "metadata": {},
     "output_type": "execute_result"
    }
   ],
   "source": [
    "# Calculate LTV for each cohort\n",
    "df['revenue'] = df['quantity'] * 4.99\n",
    "df['ltv'] = df.groupby(['cohort_month', 'cohort_age'])['revenue'].transform('sum') / df['cohort_size']\n",
    "df['ltv']"
   ]
  },
  {
   "cell_type": "code",
   "execution_count": 10,
   "id": "c6e8928e",
   "metadata": {},
   "outputs": [
    {
     "name": "stdout",
     "output_type": "stream",
     "text": [
      "cohort_age           0         1\n",
      "cohort_month                    \n",
      "2020-01       7.738415  3.044994\n",
      "2020-02       6.338422       NaN\n"
     ]
    }
   ],
   "source": [
    "# Displaying the result\n",
    "print(df.groupby(['cohort_month', 'cohort_age'])['ltv'].mean().unstack())"
   ]
  },
  {
   "cell_type": "markdown",
   "id": "7637e5ae",
   "metadata": {},
   "source": [
    "##### 1.2. Forecast of LTV for half a year¶"
   ]
  },
  {
   "cell_type": "code",
   "execution_count": 11,
   "id": "341e6b76",
   "metadata": {},
   "outputs": [],
   "source": [
    "# Average revenue per user over the last 90 days\n",
    "arpu_last_90_days = 85"
   ]
  },
  {
   "cell_type": "code",
   "execution_count": 12,
   "id": "0a332b28",
   "metadata": {},
   "outputs": [],
   "source": [
    "# Average customer LTV over the last 90 days\n",
    "ltv_last_90_days = 3.044994"
   ]
  },
  {
   "cell_type": "code",
   "execution_count": 13,
   "id": "c5b26a5a",
   "metadata": {},
   "outputs": [],
   "source": [
    "# Decrease in LTV per day\n",
    "ltv_decay = 0.1"
   ]
  },
  {
   "cell_type": "code",
   "execution_count": 14,
   "id": "b60a3002",
   "metadata": {},
   "outputs": [
    {
     "data": {
      "text/plain": [
       "0.0003757821129851147"
      ]
     },
     "execution_count": 14,
     "metadata": {},
     "output_type": "execute_result"
    }
   ],
   "source": [
    "# Average LTV for six months (180 days)\n",
    "ltv_last_180_days = ltv_last_90_days * np.exp(-ltv_decay * 90)\n",
    "ltv_last_180_days"
   ]
  },
  {
   "cell_type": "code",
   "execution_count": 15,
   "id": "21c96d06",
   "metadata": {},
   "outputs": [
    {
     "data": {
      "text/plain": [
       "170.0"
      ]
     },
     "execution_count": 15,
     "metadata": {},
     "output_type": "execute_result"
    }
   ],
   "source": [
    "# Average revenue per user for half a year\n",
    "arpu_last_180_days = arpu_last_90_days * (180 / 90)\n",
    "arpu_last_180_days"
   ]
  },
  {
   "cell_type": "code",
   "execution_count": 16,
   "id": "e804072e",
   "metadata": {},
   "outputs": [
    {
     "name": "stdout",
     "output_type": "stream",
     "text": [
      "Forecast LTV for half a year:  1699.7902033794278\n"
     ]
    }
   ],
   "source": [
    "# Forecast LTV for half a year\n",
    "ltv_forecast = ltv_last_180_days * np.exp(-ltv_decay * 90) + (arpu_last_180_days / ltv_decay) * (1 - np.exp(-ltv_decay * 90))\n",
    "print(\"Forecast LTV for half a year: \", ltv_forecast)"
   ]
  },
  {
   "cell_type": "markdown",
   "id": "db85b94c",
   "metadata": {},
   "source": [
    "##### 1.3. Building a graph that will display the actual LTV curve against the background of the predicted LTV curve"
   ]
  },
  {
   "cell_type": "code",
   "execution_count": 19,
   "id": "2c514045",
   "metadata": {},
   "outputs": [],
   "source": [
    "# Actual LTV data\n",
    "cohort_age = [0, 1]\n",
    "cohort_month = ['2020-01', '2020-02']\n",
    "ltv = [7.738415, 6.338422]"
   ]
  },
  {
   "cell_type": "code",
   "execution_count": 20,
   "id": "bd096a6f",
   "metadata": {},
   "outputs": [],
   "source": [
    "# Data of projected LTV for half a year\n",
    "forecast_ltv = 1699.7902033794278"
   ]
  },
  {
   "cell_type": "code",
   "execution_count": 21,
   "id": "2e924e63",
   "metadata": {},
   "outputs": [
    {
     "data": {
      "image/png": "[encoded data removed]",
      "text/plain": [
       "<Figure size 432x288 with 1 Axes>"
      ]
     },
     "metadata": {
      "needs_background": "light"
     },
     "output_type": "display_data"
    }
   ],
   "source": [
    "# Plotting\n",
    "plt.plot(cohort_age, ltv, marker='o', label='Actual LTV')\n",
    "plt.plot([0, 6], [ltv[0], forecast_ltv], linestyle='--', label='Forecast LTV for six months')\n",
    "plt.xticks(cohort_age, cohort_month)\n",
    "plt.xlabel('Cohorts')\n",
    "plt.ylabel('LTV')\n",
    "plt.title('Actual and Projected LTV')\n",
    "plt.legend()\n",
    "plt.show()"
   ]
  },
  {
   "cell_type": "markdown",
   "id": "5bdc4c3d",
   "metadata": {},
   "source": [
    "###### 1.4. Calculation of ROMI for 4 weeks and for half a year, if the cost of attracting a paying user is 6 USD"
   ]
  },
  {
   "cell_type": "code",
   "execution_count": 22,
   "id": "df16313e",
   "metadata": {},
   "outputs": [
    {
     "data": {
      "text/html": [
       "<div>\n",
       "<style scoped>\n",
       "    .dataframe tbody tr th:only-of-type {\n",
       "        vertical-align: middle;\n",
       "    }\n",
       "\n",
       "    .dataframe tbody tr th {\n",
       "        vertical-align: top;\n",
       "    }\n",
       "\n",
       "    .dataframe thead th {\n",
       "        text-align: right;\n",
       "    }\n",
       "</style>\n",
       "<table border=\"1\" class=\"dataframe\">\n",
       "  <thead>\n",
       "    <tr style=\"text-align: right;\">\n",
       "      <th></th>\n",
       "      <th>product_id</th>\n",
       "      <th>quantity</th>\n",
       "      <th>is_trial_period</th>\n",
       "      <th>purchase_date</th>\n",
       "      <th>user_id</th>\n",
       "      <th>cohort_month</th>\n",
       "      <th>cohort_age</th>\n",
       "      <th>cohort_size</th>\n",
       "      <th>revenue</th>\n",
       "      <th>ltv</th>\n",
       "    </tr>\n",
       "  </thead>\n",
       "  <tbody>\n",
       "    <tr>\n",
       "      <th>0</th>\n",
       "      <td>1week_4.99_USD_subscription_7days_trial</td>\n",
       "      <td>1</td>\n",
       "      <td>False</td>\n",
       "      <td>2020-02-19</td>\n",
       "      <td>9484222</td>\n",
       "      <td>2020-02</td>\n",
       "      <td>0</td>\n",
       "      <td>24413</td>\n",
       "      <td>4.99</td>\n",
       "      <td>6.338422</td>\n",
       "    </tr>\n",
       "    <tr>\n",
       "      <th>1</th>\n",
       "      <td>1week_4.99_USD_subscription_7days_trial</td>\n",
       "      <td>1</td>\n",
       "      <td>False</td>\n",
       "      <td>2020-02-17</td>\n",
       "      <td>9422402</td>\n",
       "      <td>2020-02</td>\n",
       "      <td>0</td>\n",
       "      <td>24413</td>\n",
       "      <td>4.99</td>\n",
       "      <td>6.338422</td>\n",
       "    </tr>\n",
       "    <tr>\n",
       "      <th>2</th>\n",
       "      <td>1week_4.99_USD_subscription_7days_trial</td>\n",
       "      <td>1</td>\n",
       "      <td>False</td>\n",
       "      <td>2020-02-18</td>\n",
       "      <td>4997991</td>\n",
       "      <td>2020-02</td>\n",
       "      <td>0</td>\n",
       "      <td>24413</td>\n",
       "      <td>4.99</td>\n",
       "      <td>6.338422</td>\n",
       "    </tr>\n",
       "    <tr>\n",
       "      <th>3</th>\n",
       "      <td>1week_4.99_USD_subscription_7days_trial</td>\n",
       "      <td>1</td>\n",
       "      <td>False</td>\n",
       "      <td>2020-02-18</td>\n",
       "      <td>9455582</td>\n",
       "      <td>2020-02</td>\n",
       "      <td>0</td>\n",
       "      <td>24413</td>\n",
       "      <td>4.99</td>\n",
       "      <td>6.338422</td>\n",
       "    </tr>\n",
       "    <tr>\n",
       "      <th>4</th>\n",
       "      <td>1week_4.99_USD_subscription_7days_trial</td>\n",
       "      <td>1</td>\n",
       "      <td>False</td>\n",
       "      <td>2020-02-16</td>\n",
       "      <td>8803657</td>\n",
       "      <td>2020-01</td>\n",
       "      <td>1</td>\n",
       "      <td>38496</td>\n",
       "      <td>4.99</td>\n",
       "      <td>3.044994</td>\n",
       "    </tr>\n",
       "    <tr>\n",
       "      <th>...</th>\n",
       "      <td>...</td>\n",
       "      <td>...</td>\n",
       "      <td>...</td>\n",
       "      <td>...</td>\n",
       "      <td>...</td>\n",
       "      <td>...</td>\n",
       "      <td>...</td>\n",
       "      <td>...</td>\n",
       "      <td>...</td>\n",
       "      <td>...</td>\n",
       "    </tr>\n",
       "    <tr>\n",
       "      <th>114158</th>\n",
       "      <td>1week_4.99_USD_subscription_7days_trial</td>\n",
       "      <td>1</td>\n",
       "      <td>False</td>\n",
       "      <td>2020-02-02</td>\n",
       "      <td>8995745</td>\n",
       "      <td>2020-01</td>\n",
       "      <td>1</td>\n",
       "      <td>38496</td>\n",
       "      <td>4.99</td>\n",
       "      <td>3.044994</td>\n",
       "    </tr>\n",
       "    <tr>\n",
       "      <th>114159</th>\n",
       "      <td>1week_4.99_USD_subscription_7days_trial</td>\n",
       "      <td>1</td>\n",
       "      <td>False</td>\n",
       "      <td>2020-01-12</td>\n",
       "      <td>8375739</td>\n",
       "      <td>2020-01</td>\n",
       "      <td>0</td>\n",
       "      <td>38496</td>\n",
       "      <td>4.99</td>\n",
       "      <td>7.738415</td>\n",
       "    </tr>\n",
       "    <tr>\n",
       "      <th>114160</th>\n",
       "      <td>1week_4.99_USD_subscription_7days_trial</td>\n",
       "      <td>1</td>\n",
       "      <td>False</td>\n",
       "      <td>2020-01-30</td>\n",
       "      <td>8485273</td>\n",
       "      <td>2020-01</td>\n",
       "      <td>0</td>\n",
       "      <td>38496</td>\n",
       "      <td>4.99</td>\n",
       "      <td>7.738415</td>\n",
       "    </tr>\n",
       "    <tr>\n",
       "      <th>114161</th>\n",
       "      <td>1week_4.99_USD_subscription_7days_trial</td>\n",
       "      <td>1</td>\n",
       "      <td>False</td>\n",
       "      <td>2020-02-03</td>\n",
       "      <td>8375118</td>\n",
       "      <td>2020-01</td>\n",
       "      <td>1</td>\n",
       "      <td>38496</td>\n",
       "      <td>4.99</td>\n",
       "      <td>3.044994</td>\n",
       "    </tr>\n",
       "    <tr>\n",
       "      <th>114162</th>\n",
       "      <td>1week_4.99_USD_subscription_7days_trial</td>\n",
       "      <td>1</td>\n",
       "      <td>False</td>\n",
       "      <td>2020-02-02</td>\n",
       "      <td>8576011</td>\n",
       "      <td>2020-01</td>\n",
       "      <td>1</td>\n",
       "      <td>38496</td>\n",
       "      <td>4.99</td>\n",
       "      <td>3.044994</td>\n",
       "    </tr>\n",
       "  </tbody>\n",
       "</table>\n",
       "<p>51192 rows × 10 columns</p>\n",
       "</div>"
      ],
      "text/plain": [
       "                                     product_id  quantity  is_trial_period  \\\n",
       "0       1week_4.99_USD_subscription_7days_trial         1            False   \n",
       "1       1week_4.99_USD_subscription_7days_trial         1            False   \n",
       "2       1week_4.99_USD_subscription_7days_trial         1            False   \n",
       "3       1week_4.99_USD_subscription_7days_trial         1            False   \n",
       "4       1week_4.99_USD_subscription_7days_trial         1            False   \n",
       "...                                         ...       ...              ...   \n",
       "114158  1week_4.99_USD_subscription_7days_trial         1            False   \n",
       "114159  1week_4.99_USD_subscription_7days_trial         1            False   \n",
       "114160  1week_4.99_USD_subscription_7days_trial         1            False   \n",
       "114161  1week_4.99_USD_subscription_7days_trial         1            False   \n",
       "114162  1week_4.99_USD_subscription_7days_trial         1            False   \n",
       "\n",
       "       purchase_date  user_id cohort_month  cohort_age  cohort_size  revenue  \\\n",
       "0         2020-02-19  9484222      2020-02           0        24413     4.99   \n",
       "1         2020-02-17  9422402      2020-02           0        24413     4.99   \n",
       "2         2020-02-18  4997991      2020-02           0        24413     4.99   \n",
       "3         2020-02-18  9455582      2020-02           0        24413     4.99   \n",
       "4         2020-02-16  8803657      2020-01           1        38496     4.99   \n",
       "...              ...      ...          ...         ...          ...      ...   \n",
       "114158    2020-02-02  8995745      2020-01           1        38496     4.99   \n",
       "114159    2020-01-12  8375739      2020-01           0        38496     4.99   \n",
       "114160    2020-01-30  8485273      2020-01           0        38496     4.99   \n",
       "114161    2020-02-03  8375118      2020-01           1        38496     4.99   \n",
       "114162    2020-02-02  8576011      2020-01           1        38496     4.99   \n",
       "\n",
       "             ltv  \n",
       "0       6.338422  \n",
       "1       6.338422  \n",
       "2       6.338422  \n",
       "3       6.338422  \n",
       "4       3.044994  \n",
       "...          ...  \n",
       "114158  3.044994  \n",
       "114159  7.738415  \n",
       "114160  7.738415  \n",
       "114161  3.044994  \n",
       "114162  3.044994  \n",
       "\n",
       "[51192 rows x 10 columns]"
      ]
     },
     "execution_count": 22,
     "metadata": {},
     "output_type": "execute_result"
    }
   ],
   "source": [
    "# Filter only paying users\n",
    "paid_users = df[df['is_trial_period'] == False]\n",
    "paid_users"
   ]
  },
  {
   "cell_type": "code",
   "execution_count": null,
   "id": "a844bf18",
   "metadata": {},
   "outputs": [],
   "source": [
    "# The cost of attracting one paying user\n",
    "marketing_costs = 6\n",
    "\n",
    "# Forecast LTV for half a year\n",
    "forecasted_ltv = 1699.7902033794278\n",
    "\n",
    "# Calculate the number of paying users\n",
    "num_paid_users = len(paid_users['user_id'].unique())\n",
    "num_paid_users\n",
    "\n",
    "# Calculate CAC for 4 weeks\n",
    "romi_4_weeks = marketing_costs / num_paid_users\n",
    "romi_4_weeks\n",
    "\n",
    "# Calculate CAC for half a year (taking into account the LTV forecast)\n",
    "romi_6_months = marketing_costs / (num_paid_users * forecasted_ltv)\n",
    "romi_6_months\n",
    "\n",
    "# Displaying the result\n",
    "print(f\"Average acquisition cost per paying user for 4 weeks: {romi_4_weeks}\")\n",
    "print(f\"Average cost of attracting one paying user for half a year: {romi_6_months}\")"
   ]
  },
  {
   "cell_type": "code",
   "execution_count": 23,
   "id": "955ad318",
   "metadata": {},
   "outputs": [],
   "source": [
    "# The cost of attracting one paying user\n",
    "marketing_costs = 6"
   ]
  },
  {
   "cell_type": "code",
   "execution_count": 24,
   "id": "b3bb5d7c",
   "metadata": {},
   "outputs": [],
   "source": [
    "# Forecast LTV for half a year\n",
    "forecasted_ltv = 1699.7902033794278"
   ]
  },
  {
   "cell_type": "code",
   "execution_count": 25,
   "id": "fcb23850",
   "metadata": {},
   "outputs": [
    {
     "data": {
      "text/plain": [
       "19546"
      ]
     },
     "execution_count": 25,
     "metadata": {},
     "output_type": "execute_result"
    }
   ],
   "source": [
    "# Calculate the number of paying users\n",
    "num_paid_users = len(paid_users['user_id'].unique())\n",
    "num_paid_users"
   ]
  },
  {
   "cell_type": "code",
   "execution_count": 26,
   "id": "2b98fc27",
   "metadata": {},
   "outputs": [
    {
     "data": {
      "text/plain": [
       "0.00030696817763225213"
      ]
     },
     "execution_count": 26,
     "metadata": {},
     "output_type": "execute_result"
    }
   ],
   "source": [
    "# Calculate CAC for 4 weeks\n",
    "romi_4_weeks = marketing_costs / num_paid_users\n",
    "romi_4_weeks"
   ]
  },
  {
   "cell_type": "code",
   "execution_count": 27,
   "id": "afefb6b5",
   "metadata": {},
   "outputs": [
    {
     "data": {
      "text/plain": [
       "1.8059180304837334e-07"
      ]
     },
     "execution_count": 27,
     "metadata": {},
     "output_type": "execute_result"
    }
   ],
   "source": [
    "# Calculate CAC for half a year (taking into account the LTV forecast)\n",
    "romi_6_months = marketing_costs / (num_paid_users * forecasted_ltv)\n",
    "romi_6_months"
   ]
  },
  {
   "cell_type": "code",
   "execution_count": 28,
   "id": "d5fed0c7",
   "metadata": {},
   "outputs": [
    {
     "name": "stdout",
     "output_type": "stream",
     "text": [
      "Average acquisition cost per paying user for 4 weeks: 0.00030696817763225213\n",
      "Average cost of attracting one paying user for half a year: 1.8059180304837334e-07\n"
     ]
    }
   ],
   "source": [
    "# Displaying the result\n",
    "print(f\"Average acquisition cost per paying user for 4 weeks: {romi_4_weeks}\")\n",
    "print(f\"Average cost of attracting one paying user for half a year: {romi_6_months}\")"
   ]
  },
  {
   "cell_type": "markdown",
   "id": "27e4f64e",
   "metadata": {},
   "source": [
    "##### Based on the results obtained, we can conclude that the investment will not pay off, since the average cost of attracting one paying user for half a year (1.8059180304837334e-07) exceeds 1/3 of the client's LTV (3.044994)."
   ]
  },
  {
   "cell_type": "raw",
   "id": "f8a7271d",
   "metadata": {},
   "source": []
  }
 ],
 "metadata": {
  "kernelspec": {
   "display_name": "Python 3 (ipykernel)",
   "language": "python",
   "name": "python3"
  },
  "language_info": {
   "codemirror_mode": {
    "name": "ipython",
    "version": 3
   },
   "file_extension": ".py",
   "mimetype": "text/x-python",
   "name": "python",
   "nbconvert_exporter": "python",
   "pygments_lexer": "ipython3",
   "version": "3.9.12"
  }
 },
 "nbformat": 4,
 "nbformat_minor": 5
}
