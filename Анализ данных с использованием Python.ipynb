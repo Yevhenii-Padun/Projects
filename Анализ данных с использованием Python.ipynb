{
 "cells": [
  {
   "cell_type": "code",
   "execution_count": null,
   "id": "1bfd5a50",
   "metadata": {},
   "outputs": [],
   "source": [
    "import pandas as pd\n",
    "\n",
    "url = \"https://cocl.us/da0101en_coursera_labb\"\n",
    "df = pd.read_csv(url)\n",
    "\n",
    "# Відобразити перші 5 рядків даних\n",
    "df.head()"
   ]
  },
  {
   "cell_type": "markdown",
   "id": "e657fd46",
   "metadata": {},
   "source": [
    "Вопрос 1. Отобразите типы данных каждого столбца с помощью атрибута dtypes, затем сделайте и отправьте снимок экрана с кодом и результатом."
   ]
  },
  {
   "cell_type": "code",
   "execution_count": null,
   "id": "805d22a5",
   "metadata": {},
   "outputs": [],
   "source": [
    "print(df.dtypes)"
   ]
  },
  {
   "cell_type": "code",
   "execution_count": null,
   "id": "e722e00f",
   "metadata": {},
   "outputs": [],
   "source": []
  },
  {
   "cell_type": "markdown",
   "id": "61fa42d2",
   "metadata": {},
   "source": [
    "Вопрос 2. Удалите столбцы «id» и «Unnamed: 0» с оси 1 с помощью метода drop(), затем используйте метод describe() для получения статистической сводки по данным. Сделайте снимок экрана и отправьте его. Убедитесь в том, что параметру inplace установлено значение True."
   ]
  },
  {
   "cell_type": "code",
   "execution_count": null,
   "id": "95de381d",
   "metadata": {},
   "outputs": [],
   "source": [
    "# Видалення стовпців \"id\" і \"Unnamed: 0\"\n",
    "df.drop([\"id\", \"Unnamed: 0\"], axis=1, inplace=True)\n",
    "\n",
    "# Статистичне узагальнення даних\n",
    "statistics = df.describe()\n",
    "\n",
    "# Виведення статистичних даних\n",
    "print(statistics)"
   ]
  },
  {
   "cell_type": "code",
   "execution_count": null,
   "id": "7551c673",
   "metadata": {},
   "outputs": [],
   "source": []
  },
  {
   "cell_type": "markdown",
   "id": "96917fdb",
   "metadata": {},
   "source": [
    "Вопрос 3. Используйте метод value_counts для подсчета количества домов с уникальными значениями этажей, используйте метод .to_frame(), чтобы преобразовать его в кадр данных. "
   ]
  },
  {
   "cell_type": "code",
   "execution_count": null,
   "id": "4a03e2d2",
   "metadata": {},
   "outputs": [],
   "source": [
    "# Підрахунок кількості будинків з унікальними значеннями поверхів\n",
    "floor_counts = df['floors'].value_counts().to_frame()\n",
    "\n",
    "# Виведення результатів\n",
    "print(floor_counts)"
   ]
  },
  {
   "cell_type": "code",
   "execution_count": null,
   "id": "26dcc7cc",
   "metadata": {},
   "outputs": [],
   "source": []
  },
  {
   "cell_type": "markdown",
   "id": "8cc1e08c",
   "metadata": {},
   "source": [
    "Вопрос 4. Используйте функцию boxplot из библиотеки seaborn. Постройте график, по которому можно определить, среди каких домов больше выбросов по цене: с видом на набережную или без вида на набережную (waterfront). "
   ]
  },
  {
   "cell_type": "code",
   "execution_count": null,
   "id": "432d0f91",
   "metadata": {},
   "outputs": [],
   "source": [
    "import seaborn as sns\n",
    "\n",
    "# Побудова графіка boxplot\n",
    "sns.boxplot(x='waterfront', y='price', data=df)\n",
    "\n",
    "# Виведення графіка\n",
    "plt.show()"
   ]
  },
  {
   "cell_type": "code",
   "execution_count": null,
   "id": "f35b1eea",
   "metadata": {},
   "outputs": [],
   "source": []
  },
  {
   "cell_type": "markdown",
   "id": "6c873e5a",
   "metadata": {},
   "source": [
    "Вопрос 5. Используйте функцию regplot из библиотеки seaborn. Определите, положительно или отрицательно коррелируют параметры sqft_above (площадь) и price (цена). Сделайте снимок экрана с графиком и кодом, использованным для его построения.\n"
   ]
  },
  {
   "cell_type": "code",
   "execution_count": null,
   "id": "cd27acc0",
   "metadata": {},
   "outputs": [],
   "source": [
    "import seaborn as sns\n",
    "import matplotlib.pyplot as plt\n",
    "\n",
    "# Побудова графіка регресії\n",
    "sns.regplot(x='sqft_above', y='price', data=df)\n",
    "\n",
    "# Виведення графіка\n",
    "plt.show()"
   ]
  },
  {
   "cell_type": "code",
   "execution_count": null,
   "id": "1efb8f09",
   "metadata": {},
   "outputs": [],
   "source": []
  },
  {
   "cell_type": "markdown",
   "id": "6d7cd5b0",
   "metadata": {},
   "source": [
    "Вопрос 6. Постройте модель линейной регрессии и спрогнозируйте значение параметра price (цена) по параметру sqft_living (жилая площадь). Затем рассчитайте R^2. Сделайте снимок экрана с кодом программы и значением R^2."
   ]
  },
  {
   "cell_type": "code",
   "execution_count": null,
   "id": "a0271d93",
   "metadata": {},
   "outputs": [],
   "source": [
    "import numpy as np\n",
    "from sklearn.linear_model import LinearRegression\n",
    "from sklearn.metrics import r2_score\n",
    "\n",
    "# Завантаження даних\n",
    "url = \"https://cocl.us/da0101en_coursera_labb\"\n",
    "df = pd.read_csv(url)\n",
    "\n",
    "# Розділення залежної (цільової) змінної та ознак\n",
    "X = df[['sqft_living']]\n",
    "y = df['price']\n",
    "\n",
    "# Побудова та навчання моделі лінійної регресії\n",
    "model = LinearRegression()\n",
    "model.fit(X, y)\n",
    "\n",
    "# Прогнозування значень ціни на основі жилої площі\n",
    "y_pred = model.predict(X)\n",
    "\n",
    "# Обчислення коефіцієнта детермінації R^2\n",
    "r2 = r2_score(y, y_pred)\n",
    "\n",
    "# Виведення значення R^2\n",
    "print(\"R^2:\", r2)"
   ]
  },
  {
   "cell_type": "code",
   "execution_count": null,
   "id": "043f5945",
   "metadata": {},
   "outputs": [],
   "source": []
  },
  {
   "cell_type": "markdown",
   "id": "86ff0aaf",
   "metadata": {},
   "source": [
    "Вопрос 7. Постройте модель линейной регрессии для прогнозирования значения параметра price по следующим параметрам:\n",
    "\"floors\" \n",
    "\"waterfront\" \n",
    "\"lat\" \n",
    "\"bedrooms\" \n",
    "\"sqft_basement\" \n",
    "\"view\" \"bathrooms\" \n",
    "\"sqft_living15\" \n",
    "\"sqft_above\" \n",
    "\"grade\" \n",
    "\"sqft_living\"\n",
    "Затем рассчитайте R^2. Сделайте снимок экрана с кодом программы и значением R^2."
   ]
  },
  {
   "cell_type": "code",
   "execution_count": null,
   "id": "9e01cc15",
   "metadata": {},
   "outputs": [],
   "source": [
    "from sklearn.linear_model import LinearRegression\n",
    "from sklearn.metrics import r2_score\n",
    "# Вибір ознак та цільової змінної\n",
    "features = ['floors', 'waterfront', 'lat', 'bedrooms', 'sqft_basement', 'view', 'bathrooms',\n",
    "            'sqft_living15', 'sqft_above', 'grade', 'sqft_living']\n",
    "target = 'price'\n",
    "\n",
    "X = df[features]\n",
    "y = df[target]\n",
    "# Побудова та навчання моделі лінійної регресії\n",
    "model = LinearRegression()\n",
    "model.fit(X, y)\n",
    "# Прогнозування значень ціни на основі вибраних ознак\n",
    "y_pred = model.predict(X)\n",
    "# Обчислення коефіцієнта детермінації R^2\n",
    "r2 = r2_score(y, y_pred)\n",
    "# Виведення значення R^2\n",
    "print(\"R^2:\", r2)"
   ]
  },
  {
   "cell_type": "markdown",
   "id": "aa32ba88",
   "metadata": {},
   "source": [
    "Вопрос 8. Создайте объект конвейера, который масштабирует данные, выполняет полиномиальное преобразование и строит модель линейной регрессии. Подберите объект, используя функции, указанные в вопросе выше, затем подберите модель и вычислите R^2."
   ]
  },
  {
   "cell_type": "code",
   "execution_count": null,
   "id": "fffd7c4d",
   "metadata": {},
   "outputs": [],
   "source": [
    "from sklearn.pipeline import Pipeline\n",
    "from sklearn.preprocessing import StandardScaler, PolynomialFeatures\n",
    "from sklearn.linear_model import LinearRegression\n",
    "from sklearn.metrics import r2_score\n",
    "from sklearn.model_selection import train_test_split\n",
    "# Вибір ознак та цільової змінної\n",
    "features = ['floors', 'waterfront', 'lat', 'bedrooms', 'sqft_basement', 'view', 'bathrooms',\n",
    "            'sqft_living15', 'sqft_above', 'grade', 'sqft_living']\n",
    "target = 'price'\n",
    "X = df[features]\n",
    "y = df[target]\n",
    "# Розділення даних на тренувальний та тестовий набори\n",
    "X_train, X_test, y_train, y_test = train_test_split(X, y, test_size=0.2, random_state=0)\n",
    "# Створення конвеєра\n",
    "pipeline = Pipeline([\n",
    "    ('scaler', StandardScaler()),\n",
    "    ('polynomial', PolynomialFeatures(degree=2)),\n",
    "    ('regression', LinearRegression())\n",
    "])\n",
    "# Навчання моделі з використанням конвеєра\n",
    "pipeline.fit(X_train, y_train)\n",
    "# Прогнозування значень на тестовому наборі\n",
    "y_pred = pipeline.predict(X_test)\n",
    "# Обчислення коефіцієнта детермінації R^2\n",
    "r2 = r2_score(y_test, y_pred)\n",
    "# Виведення значення R^2\n",
    "print(\"R^2:\", r2)"
   ]
  },
  {
   "cell_type": "code",
   "execution_count": null,
   "id": "b7ffae14",
   "metadata": {},
   "outputs": [],
   "source": []
  },
  {
   "cell_type": "markdown",
   "id": "5f4a0a6e",
   "metadata": {},
   "source": [
    "Вопрос 9. Создайте и обучите объект гребневой регрессии на тренировочных данных, задав коэффициент регуляризации 0,1, и вычислите R^2 по тестовым данным."
   ]
  },
  {
   "cell_type": "code",
   "execution_count": null,
   "id": "e41efce9",
   "metadata": {},
   "outputs": [],
   "source": [
    "from sklearn.linear_model import Ridge\n",
    "from sklearn.metrics import r2_score\n",
    "from sklearn.model_selection import train_test_split\n",
    "\n",
    "# Завантаження даних\n",
    "url = \"https://cocl.us/da0101en_coursera_labb\"\n",
    "df = pd.read_csv(url)\n",
    "\n",
    "# Вибір ознак та цільової змінної\n",
    "features = ['floors', 'waterfront', 'lat', 'bedrooms', 'sqft_basement', 'view', 'bathrooms',\n",
    "            'sqft_living15', 'sqft_above', 'grade', 'sqft_living']\n",
    "target = 'price'\n",
    "\n",
    "X = df[features]\n",
    "y = df[target]\n",
    "# Розділення даних на тренувальний та тестовий набори\n",
    "X_train, X_test, y_train, y_test = train_test_split(X, y, test_size=0.2, random_state=0)\n",
    "# Створення та навчання гребневої регресії\n",
    "ridge = Ridge(alpha=0.1)\n",
    "ridge.fit(X_train, y_train)\n",
    "# Прогнозування значень на тестовому наборі\n",
    "y_pred = ridge.predict(X_test)\n",
    "# Обчислення коефіцієнта детермінації R^2\n",
    "r2 = r2_score(y_test, y_pred)\n",
    "# Виведення значення R^2\n",
    "print(\"R^2:\", r2)"
   ]
  },
  {
   "cell_type": "code",
   "execution_count": null,
   "id": "ead5df16",
   "metadata": {},
   "outputs": [],
   "source": []
  },
  {
   "cell_type": "markdown",
   "id": "1b29d9bd",
   "metadata": {},
   "source": [
    "Вопрос 10. Выполните полиномиальное преобразование второго порядка как для тренировочных данных, так и для тестовых данных. Создайте и обучите объект гребневой регрессии на тренировочных данных, задав коэффициент регуляризации 0,1. Вычислите R^2 по предоставленным тестовым данным."
   ]
  },
  {
   "cell_type": "code",
   "execution_count": null,
   "id": "066acaeb",
   "metadata": {},
   "outputs": [],
   "source": [
    "from sklearn.linear_model import Ridge\n",
    "from sklearn.metrics import r2_score\n",
    "from sklearn.model_selection import train_test_split\n",
    "from sklearn.preprocessing import PolynomialFeatures\n",
    "from sklearn.pipeline import make_pipeline\n",
    "\n",
    "# Завантаження даних\n",
    "url = \"https://cocl.us/da0101en_coursera_labb\"\n",
    "df = pd.read_csv(url)\n",
    "# Вибір ознак та цільової змінної\n",
    "features = ['floors', 'waterfront', 'lat', 'bedrooms', 'sqft_basement', 'view', 'bathrooms',\n",
    "            'sqft_living15', 'sqft_above', 'grade', 'sqft_living']\n",
    "target = 'price'\n",
    "X = df[features]\n",
    "y = df[target]\n",
    "# Розділення даних на тренувальний та тестовий набори\n",
    "X_train, X_test, y_train, y_test = train_test_split(X, y, test_size=0.2, random_state=0)\n",
    "# Створення та навчання гребневої регресії з поліноміальними ознаками\n",
    "model = make_pipeline(PolynomialFeatures(degree=2), Ridge(alpha=0.1))\n",
    "model.fit(X_train, y_train)\n",
    "# Прогнозування значень на тестовому наборі\n",
    "y_pred = model.predict(X_test)\n",
    "# Обчислення коефіцієнта детермінації R^2\n",
    "r2 = r2_score(y_test, y_pred)\n",
    "# Виведення значення R^2\n",
    "print(\"R^2:\", r2)"
   ]
  },
  {
   "cell_type": "code",
   "execution_count": null,
   "id": "1f0ce9d5",
   "metadata": {},
   "outputs": [],
   "source": []
  }
 ],
 "metadata": {
  "kernelspec": {
   "display_name": "Python 3 (ipykernel)",
   "language": "python",
   "name": "python3"
  },
  "language_info": {
   "codemirror_mode": {
    "name": "ipython",
    "version": 3
   },
   "file_extension": ".py",
   "mimetype": "text/x-python",
   "name": "python",
   "nbconvert_exporter": "python",
   "pygments_lexer": "ipython3",
   "version": "3.9.12"
  }
 },
 "nbformat": 4,
 "nbformat_minor": 5
}
