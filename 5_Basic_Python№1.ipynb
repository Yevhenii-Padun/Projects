{
 "cells": [
  {
   "cell_type": "markdown",
   "metadata": {},
   "source": [
    "## Perform a task from an attached file\n",
    "\n"
   ]
  },
  {
   "cell_type": "markdown",
   "metadata": {},
   "source": [
    "#### Purpose:\n",
    "\n",
    "* Learn how to work with basic data types and structures in Python;\n",
    "* get acquainted with the basic algorithms"
   ]
  },
  {
   "cell_type": "markdown",
   "metadata": {},
   "source": [
    "#### Task 1"
   ]
  },
  {
   "cell_type": "markdown",
   "metadata": {},
   "source": [
    "Calculate the area of the triangle when the known side and the carried height to it"
   ]
  },
  {
   "cell_type": "code",
   "execution_count": 38,
   "metadata": {},
   "outputs": [
    {
     "name": "stdout",
     "output_type": "stream",
     "text": [
      "Enter the side of the triangle:3\n",
      "Enter the height of the triangle:4\n",
      "Area of triangle: 6.0\n"
     ]
    }
   ],
   "source": [
    "side = float(input('Enter the side of the triangle:'))\n",
    "height = float(input('Enter the height of the triangle:'))\n",
    "area = side*height*1/2\n",
    "print('Area of triangle:' , area)"
   ]
  },
  {
   "cell_type": "markdown",
   "metadata": {},
   "source": [
    "#### Task 2"
   ]
  },
  {
   "cell_type": "markdown",
   "metadata": {},
   "source": [
    " Given a three-digit number. Display separately each digit of the number and sum of digits of the number\n",
    "\n",
    "Implement the task in two ways (using tapes and '%', '//' operators)"
   ]
  },
  {
   "cell_type": "markdown",
   "metadata": {},
   "source": [
    "##### first way"
   ]
  },
  {
   "cell_type": "code",
   "execution_count": 39,
   "metadata": {},
   "outputs": [
    {
     "name": "stdout",
     "output_type": "stream",
     "text": [
      "Enter a three-digit number:429\n",
      "4\n",
      "2\n",
      "9\n"
     ]
    },
    {
     "data": {
      "text/plain": [
       "['4', '2', '9']"
      ]
     },
     "execution_count": 39,
     "metadata": {},
     "output_type": "execute_result"
    }
   ],
   "source": [
    "N = input('Enter a three-digit number:')\n",
    "\n",
    "for i in N:\n",
    "    print(i)\n",
    "\n",
    "list(N)"
   ]
  },
  {
   "cell_type": "code",
   "execution_count": 40,
   "metadata": {},
   "outputs": [
    {
     "name": "stdout",
     "output_type": "stream",
     "text": [
      "Sum = 15\n"
     ]
    }
   ],
   "source": [
    "Sum = 0\n",
    "\n",
    "for i in N:\n",
    "    Sum += int(i)\n",
    "  \n",
    "print('Sum =', Sum)"
   ]
  },
  {
   "cell_type": "markdown",
   "metadata": {},
   "source": [
    "##### second way"
   ]
  },
  {
   "cell_type": "code",
   "execution_count": 41,
   "metadata": {},
   "outputs": [
    {
     "name": "stdout",
     "output_type": "stream",
     "text": [
      "Enter a three-digit number:429\n",
      "4\n",
      "2\n",
      "9\n",
      "[4, 2, 9]\n",
      "Sum = 15\n"
     ]
    }
   ],
   "source": [
    "N = int(input('Enter a three-digit number:'))\n",
    "\n",
    "print(N//100)\n",
    "print(N%100//10)\n",
    "print(N%10)\n",
    "\n",
    "# OR\n",
    "nums = []\n",
    "N1 = N\n",
    "while N1:\n",
    "    nums.append(N1 % 10)\n",
    "    N1 = N1 // 10\n",
    "\n",
    "c = nums[::-1]\n",
    "print(c)\n",
    "\n",
    "print('Sum =', sum(nums)) "
   ]
  },
  {
   "cell_type": "markdown",
   "metadata": {},
   "source": [
    "#### Task 3"
   ]
  },
  {
   "cell_type": "markdown",
   "metadata": {},
   "source": [
    "Given a sentence (tape).\n",
    "* Break sentences into words and put them in the list.\n",
    "* Display the number of words in the sentence.\n",
    "* Form a new sentence consisting of the first and last words from the original sentence."
   ]
  },
  {
   "cell_type": "code",
   "execution_count": 42,
   "metadata": {},
   "outputs": [
    {
     "name": "stdout",
     "output_type": "stream",
     "text": [
      "['My', 'favourite', 'tutor', 'in', 'academy', 'is', 'Ihor']\n"
     ]
    }
   ],
   "source": [
    "sentence = 'My favourite tutor in academy is Ihor' \n",
    "\n",
    "newlist = [i for i in sentence1.split()]\n",
    "print(newlist)"
   ]
  },
  {
   "cell_type": "code",
   "execution_count": 67,
   "metadata": {},
   "outputs": [
    {
     "name": "stdout",
     "output_type": "stream",
     "text": [
      "Length of sentence: 7 words\n"
     ]
    }
   ],
   "source": [
    "print(f'Length of sentence: {len(newlist)} words')"
   ]
  },
  {
   "cell_type": "code",
   "execution_count": 66,
   "metadata": {},
   "outputs": [
    {
     "name": "stdout",
     "output_type": "stream",
     "text": [
      "My Ihor\n"
     ]
    }
   ],
   "source": [
    "new_sentenses1 = f\"{newlist[0]} {newlist[-1]}\"\n",
    "print(new_sentenses1)"
   ]
  },
  {
   "cell_type": "markdown",
   "metadata": {},
   "source": [
    "#### Task 4"
   ]
  },
  {
   "cell_type": "markdown",
   "metadata": {},
   "source": [
    "Check if the formula is true: $$ sin^2x + cos^2x = 1$$\n",
    "\n",
    "Write code that implements this formula. Let me remind you that trigonometric functions take arguments to a radiant degree"
   ]
  },
  {
   "cell_type": "code",
   "execution_count": 48,
   "metadata": {},
   "outputs": [
    {
     "name": "stdout",
     "output_type": "stream",
     "text": [
      "Enter a value x:1\n",
      "1.0\n",
      "given formula 'sin^2x + cos^2x = 1' is true\n"
     ]
    }
   ],
   "source": [
    "x = int(input('Enter a value x:'))\n",
    "\n",
    "import math\n",
    "y = math.radians(x)\n",
    "\n",
    "b = math.sin(y)\n",
    "z = math.cos(y)\n",
    "b = b * b\n",
    "z = z * z\n",
    "n = b + z\n",
    "e = round(n, 2)\n",
    "print(e)              #you can print to check what is rounding\n",
    "\n",
    "if e == 1:\n",
    "    print(\"given formula 'sin^2x + cos^2x = 1' is true\")\n",
    "else:\n",
    "    print(\"given formula 'sin^2x + cos^2x = 1' is not true\")"
   ]
  },
  {
   "cell_type": "markdown",
   "metadata": {},
   "source": [
    "#### Task 5"
   ]
  },
  {
   "cell_type": "markdown",
   "metadata": {},
   "source": [
    "Write a program to calculate the roots of the quadratic equation.\n",
    "\n",
    "Let me remind you that the `n`th power has `n` roots. (Roots can be complex)"
   ]
  },
  {
   "cell_type": "code",
   "execution_count": 54,
   "metadata": {},
   "outputs": [
    {
     "name": "stdout",
     "output_type": "stream",
     "text": [
      "Enter a value a:-2\n",
      "Enter a value b:-5\n",
      "Enter a value c:-1\n",
      "Discriminant =  17\n",
      "Roots of the quadratic equation:  (-2.2807764064044154-0j) (-0.21922359359558485-0j)\n"
     ]
    }
   ],
   "source": [
    "from cmath import sqrt\n",
    "\n",
    "a = int(input('Enter a value a:'))\n",
    "b = int(input('Enter a value b:'))\n",
    "c = int(input('Enter a value c:'))\n",
    "\n",
    "discr = b**2 - 4 * a * c;\n",
    "print('Discriminant = ', discr) \n",
    "\n",
    "if discr > 0:\n",
    "    x1 = (-b + sqrt(discr)) / (2 * a)\n",
    "    x2 = (-b - sqrt(discr)) / (2 * a)\n",
    "    print('Roots of the quadratic equation: ', x1, x2)\n",
    "elif discr == 0:\n",
    "    x = -b / (2 * a)\n",
    "    print(x)\n",
    "else:\n",
    "    print('No Roots')"
   ]
  },
  {
   "cell_type": "markdown",
   "metadata": {},
   "source": [
    "#### Task 6"
   ]
  },
  {
   "cell_type": "markdown",
   "metadata": {},
   "source": [
    "Write a program that outputs the sentence: <i>\"Діаметр планети `Planet` дорівнює` Diament`\"</i>,\n",
    "\n",
    "where `Planet` and `Diament` user enters"
   ]
  },
  {
   "cell_type": "code",
   "execution_count": 60,
   "metadata": {},
   "outputs": [
    {
     "name": "stdout",
     "output_type": "stream",
     "text": [
      "Enter planet name: mars\n",
      "Enter planet diameter: 506\n",
      "Діаметр планети mars дорівнює: 506\n"
     ]
    }
   ],
   "source": [
    "name = str(input('Enter planet name: '))\n",
    "diameter = int(input('Enter planet diameter: '))\n",
    "\n",
    "print(f'Діаметр планети {name} дорівнює: {diameter}')"
   ]
  },
  {
   "cell_type": "code",
   "execution_count": null,
   "metadata": {},
   "outputs": [],
   "source": []
  }
 ],
 "metadata": {
  "kernelspec": {
   "display_name": "Python 3 (ipykernel)",
   "language": "python",
   "name": "python3"
  },
  "language_info": {
   "codemirror_mode": {
    "name": "ipython",
    "version": 3
   },
   "file_extension": ".py",
   "mimetype": "text/x-python",
   "name": "python",
   "nbconvert_exporter": "python",
   "pygments_lexer": "ipython3",
   "version": "3.9.12"
  }
 },
 "nbformat": 4,
 "nbformat_minor": 2
}
