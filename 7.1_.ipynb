{
 "cells": [
  {
   "cell_type": "markdown",
   "metadata": {},
   "source": [
    "# Домашня робота №7.1"
   ]
  },
  {
   "cell_type": "markdown",
   "metadata": {},
   "source": [
    "## 1 Пароль\n",
    "Напишіть функцію для генерування випадкового пароля з такими обмеженнями:\n",
    "- пароль складається з рівно $10$ символів\n",
    "- пароль містить хоча б одну маленьку латинську літеру [a-z]\n",
    "- пароль містить хоча б одну велику латинську літеру [A-Z]\n",
    "- пароль містить хоча б одну цифру [0-9]\n",
    "- пароль містить хоча б один спеціальний символ [~!@#$%^&*()-_+=\\/{}[].,?<>:;]\n",
    "\n",
    "Функція має такі характеристики:\n",
    "* не приймає на вхід жодного аргументу\n",
    "* повертає згенерований пароль\n",
    "\n",
    "Викличіть функцію кілька разів та виведіть згенеровані паролі."
   ]
  },
  {
   "cell_type": "code",
   "execution_count": 47,
   "metadata": {},
   "outputs": [
    {
     "ename": "TypeError",
     "evalue": "'str' object does not support item assignment",
     "output_type": "error",
     "traceback": [
      "\u001b[1;31m---------------------------------------------------------------------------\u001b[0m",
      "\u001b[1;31mTypeError\u001b[0m                                 Traceback (most recent call last)",
      "Input \u001b[1;32mIn [47]\u001b[0m, in \u001b[0;36m<cell line: 22>\u001b[1;34m()\u001b[0m\n\u001b[0;32m     20\u001b[0m         password2 \u001b[38;5;241m=\u001b[39m \u001b[38;5;28mstr\u001b[39m(random\u001b[38;5;241m.\u001b[39mshuffle(password))   \u001b[38;5;66;03m#Видає помилку в типові даних. Що з цим робити?\u001b[39;00m\n\u001b[0;32m     21\u001b[0m     \u001b[38;5;28;01mreturn\u001b[39;00m\n\u001b[1;32m---> 22\u001b[0m \u001b[43mrandom_password\u001b[49m\u001b[43m(\u001b[49m\u001b[43m)\u001b[49m    \u001b[38;5;66;03m#Викликаючи функцію видає порожнє значення\u001b[39;00m\n\u001b[0;32m     23\u001b[0m random_password()\n\u001b[0;32m     24\u001b[0m random_password()\n",
      "Input \u001b[1;32mIn [47]\u001b[0m, in \u001b[0;36mrandom_password\u001b[1;34m()\u001b[0m\n\u001b[0;32m     18\u001b[0m         \u001b[38;5;28;01mfor\u001b[39;00m i \u001b[38;5;129;01min\u001b[39;00m \u001b[38;5;28mrange\u001b[39m(\u001b[38;5;241m6\u001b[39m): \n\u001b[0;32m     19\u001b[0m             password \u001b[38;5;241m+\u001b[39m\u001b[38;5;241m=\u001b[39m random\u001b[38;5;241m.\u001b[39mchoice(s5)\n\u001b[1;32m---> 20\u001b[0m     password2 \u001b[38;5;241m=\u001b[39m \u001b[38;5;28mstr\u001b[39m(\u001b[43mrandom\u001b[49m\u001b[38;5;241;43m.\u001b[39;49m\u001b[43mshuffle\u001b[49m\u001b[43m(\u001b[49m\u001b[43mpassword\u001b[49m\u001b[43m)\u001b[49m)   \u001b[38;5;66;03m#Видає помилку в типові даних. Що з цим робити?\u001b[39;00m\n\u001b[0;32m     21\u001b[0m \u001b[38;5;28;01mreturn\u001b[39;00m\n",
      "File \u001b[1;32mC:\\anaconda3\\lib\\random.py:362\u001b[0m, in \u001b[0;36mRandom.shuffle\u001b[1;34m(self, x, random)\u001b[0m\n\u001b[0;32m    359\u001b[0m     \u001b[38;5;28;01mfor\u001b[39;00m i \u001b[38;5;129;01min\u001b[39;00m \u001b[38;5;28mreversed\u001b[39m(\u001b[38;5;28mrange\u001b[39m(\u001b[38;5;241m1\u001b[39m, \u001b[38;5;28mlen\u001b[39m(x))):\n\u001b[0;32m    360\u001b[0m         \u001b[38;5;66;03m# pick an element in x[:i+1] with which to exchange x[i]\u001b[39;00m\n\u001b[0;32m    361\u001b[0m         j \u001b[38;5;241m=\u001b[39m randbelow(i \u001b[38;5;241m+\u001b[39m \u001b[38;5;241m1\u001b[39m)\n\u001b[1;32m--> 362\u001b[0m         x[i], x[j] \u001b[38;5;241m=\u001b[39m x[j], x[i]\n\u001b[0;32m    363\u001b[0m \u001b[38;5;28;01melse\u001b[39;00m:\n\u001b[0;32m    364\u001b[0m     _warn(\u001b[38;5;124m'\u001b[39m\u001b[38;5;124mThe *random* parameter to shuffle() has been deprecated\u001b[39m\u001b[38;5;130;01m\\n\u001b[39;00m\u001b[38;5;124m'\u001b[39m\n\u001b[0;32m    365\u001b[0m           \u001b[38;5;124m'\u001b[39m\u001b[38;5;124msince Python 3.9 and will be removed in a subsequent \u001b[39m\u001b[38;5;124m'\u001b[39m\n\u001b[0;32m    366\u001b[0m           \u001b[38;5;124m'\u001b[39m\u001b[38;5;124mversion.\u001b[39m\u001b[38;5;124m'\u001b[39m,\n\u001b[0;32m    367\u001b[0m           \u001b[38;5;167;01mDeprecationWarning\u001b[39;00m, \u001b[38;5;241m2\u001b[39m)\n",
      "\u001b[1;31mTypeError\u001b[0m: 'str' object does not support item assignment"
     ]
    }
   ],
   "source": [
    "import random\n",
    "\n",
    "def random_password():\n",
    "    s1 = 'abcdefghijklnopqrstuvwxyz'\n",
    "    s2 ='ABCDEFGHIJKLMNOPQRSTUVWXYZ'\n",
    "    s3 ='0123456789'\n",
    "    s4 ='~!@#$%^&*()-_+=/{}[].,?<>:;'\n",
    "    s5 = 'abcdefghijklnopqrstuvwxyzABCDEFGHIJKLMNOPQRSTUVWXYZ0123456789~!@#$%^&*()-_+=/{}[].,?<>:;'\n",
    "\n",
    "    n = 3  #кількість виведених рандомних паролів на екран\n",
    "    for c in range(n):\n",
    "        password =''\n",
    "        for i in range(1):\n",
    "            password += random.choice(s1)\n",
    "            password += random.choice(s2)\n",
    "            password += random.choice(s3)\n",
    "            password += random.choice(s4)\n",
    "            for i in range(6): \n",
    "                password += random.choice(s5)\n",
    "        password2 = str(random.shuffle(password))   #Видає помилку в типові даних. Що з цим робити?\n",
    "    return\n",
    "random_password()    #Викликаючи функцію видає порожнє значення\n",
    "random_password()\n",
    "random_password()"
   ]
  },
  {
   "cell_type": "code",
   "execution_count": 27,
   "metadata": {},
   "outputs": [
    {
     "name": "stdout",
     "output_type": "stream",
     "text": [
      "yM0~-f)^Ut\n",
      "vS1^QyTvF_\n",
      "eB8[$w?[Pu\n"
     ]
    }
   ],
   "source": [
    "# ЦЕ ЯК БУЛО В МЕНЕ РАНІШЕ, І ТУТ ГЕНЕРУЄТЬСЯ ПАРОЛЬ\n",
    "import random\n",
    "\n",
    "s1 = 'abcdefghijklnopqrstuvwxyz'\n",
    "s2 ='ABCDEFGHIJKLMNOPQRSTUVWXYZ'\n",
    "s3 ='0123456789'\n",
    "s4 ='~!@#$%^&*()-_+=/{}[].,?<>:;'\n",
    "s5 = 'abcdefghijklnopqrstuvwxyzABCDEFGHIJKLMNOPQRSTUVWXYZ0123456789~!@#$%^&*()-_+=/{}[].,?<>:;'\n",
    "\n",
    "n = 3  #кількість виведених рандомних паролів на екран\n",
    "for c in range(n):\n",
    "    password =''\n",
    "    for i in range(1):\n",
    "        password += random.choice(s1)\n",
    "        password += random.choice(s2)\n",
    "        password += random.choice(s3)\n",
    "        password += random.choice(s4)\n",
    "        for i in range(6): \n",
    "            password += random.choice(s5)\n",
    "    print(password)\n"
   ]
  },
  {
   "cell_type": "code",
   "execution_count": null,
   "metadata": {},
   "outputs": [],
   "source": []
  },
  {
   "cell_type": "markdown",
   "metadata": {},
   "source": [
    "## 2 Перевірка пароля\n",
    "Напишіть функцію для перевірки пароля на відповідність умовам із Задачі $1$.  \n",
    "Функція має такі характеристики:\n",
    "* приймає на вхід один аргумент - пароль\n",
    "* повертає значення **True** або **False**, що позначає правильність пароля (відповідність умовам)"
   ]
  },
  {
   "cell_type": "code",
   "execution_count": 55,
   "metadata": {},
   "outputs": [
    {
     "name": "stdout",
     "output_type": "stream",
     "text": [
      "Введіть пароль:dfgA3//7Da\n",
      "Пароль відповідає умовам!\n"
     ]
    }
   ],
   "source": [
    "# Місце для Вашого коду\n",
    "def examination_password():\n",
    "    password = input('Введіть пароль:')\n",
    "    #умови:\n",
    "    s1 = 'abcdefghijklnopqrstuvwxyz'\n",
    "    s2 ='ABCDEFGHIJKLMNOPQRSTUVWXYZ'\n",
    "    s3 ='0123456789'\n",
    "    s4 ='~!@#$%^&*()-_+=/{}[].,?<>:;'   \n",
    "\n",
    "    a0=len(password)\n",
    "    a1=any(char in password for char in s1)\n",
    "    a2=any(char in password for char in s2)\n",
    "    a3=any(char in password for char in s3)    \n",
    "    a4=any(char in password for char in s4)\n",
    "\n",
    "    True_or_False=[a0, a1, a2, a3, a4]  \n",
    "    #print(True_or_False)                #можна побачити булеві значення введеного пароля          \n",
    "\n",
    "    if a0 != 10:\n",
    "        print('False'+':' ' '+ 'Пароль має відповідати 10 символам')\n",
    "    if not a1:\n",
    "        print('False'+':' ' '+ 'Пароль має містити хоча б одну маленьку латинську літеру [a-z]') \n",
    "    if not a2:\n",
    "        print('False'+':' ' '+ 'Пароль має містити хоча б одну велику латинську літеру [A-Z]') \n",
    "    if not a3:\n",
    "        print('False'+':' ' '+ 'Пароль має містити  хоча б одну цифру [0-9]') \n",
    "    if not a4:\n",
    "        print('False'+':' ' '+ 'Пароль має містити  хоча б один спеціальний символ [~!@#$%^&*()-_+=/{}[].,?<>:;]')    \n",
    "    if all(True_or_False):\n",
    "    #if len(password) == 10 and a1 == True and a2 == True and a3 == True and a4 == True:\n",
    "        print('Пароль відповідає умовам!')\n",
    "    return\n",
    "examination_password()\n"
   ]
  },
  {
   "cell_type": "code",
   "execution_count": null,
   "metadata": {},
   "outputs": [],
   "source": []
  },
  {
   "cell_type": "markdown",
   "metadata": {},
   "source": [
    "## 3 Цикл для паролів\n",
    "Реалізуйте цикл перевірки паролів на відповідність умовам із Задачі $1$.  \n",
    "На кожній ітерації мають відбуватися такі дії:\n",
    "- запит користувача ввести пароль із клавіатури\n",
    "  - якщо введено **exit** (будь-яким регістром), то завершити цикл\n",
    "  - якщо натиснуто клавішу **Enter** (не введено жодного символа), то згенерувати пароль за допомогою функції із Задачі $1$\n",
    "  - в усіх інших випадках прийняти введені символи як пароль\n",
    "- перевірка пароля на відповідність умовам із Задачі $1$ за допомогою функції із Задачі $2$ (вивід результату)"
   ]
  },
  {
   "cell_type": "code",
   "execution_count": 63,
   "metadata": {},
   "outputs": [
    {
     "name": "stdout",
     "output_type": "stream",
     "text": [
      "Введіть пароль:hgjkhl\n"
     ]
    }
   ],
   "source": [
    "# Місце для Вашого коду         \n",
    "#умови:\n",
    "#random_password()\n",
    "password = input('Введіть пароль:')\n",
    "#Цикл\n",
    "while password is True:\n",
    "    if password == 'exit':\n",
    "        break                            \n",
    "    elif enter:                               #я не знаю як прописати введення клавіши Ентер\n",
    "        password =''                     #Це перехід до генерування паролю із задачі 1\n",
    "    elif examination_password() is True :\n",
    "       \n",
    "        break       \n"
   ]
  },
  {
   "cell_type": "code",
   "execution_count": null,
   "metadata": {},
   "outputs": [],
   "source": []
  }
 ],
 "metadata": {
  "kernelspec": {
   "display_name": "Python 3 (ipykernel)",
   "language": "python",
   "name": "python3"
  },
  "language_info": {
   "codemirror_mode": {
    "name": "ipython",
    "version": 3
   },
   "file_extension": ".py",
   "mimetype": "text/x-python",
   "name": "python",
   "nbconvert_exporter": "python",
   "pygments_lexer": "ipython3",
   "version": "3.9.12"
  }
 },
 "nbformat": 4,
 "nbformat_minor": 1
}
